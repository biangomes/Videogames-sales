{
 "cells": [
  {
   "cell_type": "code",
   "execution_count": 5,
   "metadata": {},
   "outputs": [],
   "source": [
    "%matplotlib inline\n",
    "import pandas as pd\n",
    "import matplotlib.pyplot as plt\n",
    "import seaborn as sns\n",
    "import statistics as stts\n",
    "plt.style.use('ggplot')"
   ]
  },
  {
   "cell_type": "code",
   "execution_count": 6,
   "metadata": {
    "scrolled": true
   },
   "outputs": [
    {
     "data": {
      "text/html": [
       "<div>\n",
       "<style scoped>\n",
       "    .dataframe tbody tr th:only-of-type {\n",
       "        vertical-align: middle;\n",
       "    }\n",
       "\n",
       "    .dataframe tbody tr th {\n",
       "        vertical-align: top;\n",
       "    }\n",
       "\n",
       "    .dataframe thead th {\n",
       "        text-align: right;\n",
       "    }\n",
       "</style>\n",
       "<table border=\"1\" class=\"dataframe\">\n",
       "  <thead>\n",
       "    <tr style=\"text-align: right;\">\n",
       "      <th></th>\n",
       "      <th>Platform</th>\n",
       "      <th>Genre</th>\n",
       "      <th>Publisher</th>\n",
       "      <th>NA_Sales</th>\n",
       "      <th>EU_Sales</th>\n",
       "      <th>JP_Sales</th>\n",
       "      <th>Other_Sales</th>\n",
       "      <th>Global_Sales</th>\n",
       "      <th>Rating</th>\n",
       "      <th>Critic_Score_Class</th>\n",
       "    </tr>\n",
       "  </thead>\n",
       "  <tbody>\n",
       "    <tr>\n",
       "      <th>0</th>\n",
       "      <td>Wii</td>\n",
       "      <td>Sports</td>\n",
       "      <td>Nintendo</td>\n",
       "      <td>41,36</td>\n",
       "      <td>28,96</td>\n",
       "      <td>3,77</td>\n",
       "      <td>8,45</td>\n",
       "      <td>82,54</td>\n",
       "      <td>E</td>\n",
       "      <td>Bueno</td>\n",
       "    </tr>\n",
       "    <tr>\n",
       "      <th>1</th>\n",
       "      <td>Wii</td>\n",
       "      <td>Racing</td>\n",
       "      <td>Nintendo</td>\n",
       "      <td>15,68</td>\n",
       "      <td>12,8</td>\n",
       "      <td>3,79</td>\n",
       "      <td>3,29</td>\n",
       "      <td>35,57</td>\n",
       "      <td>E</td>\n",
       "      <td>Excelente</td>\n",
       "    </tr>\n",
       "    <tr>\n",
       "      <th>2</th>\n",
       "      <td>Wii</td>\n",
       "      <td>Sports</td>\n",
       "      <td>Nintendo</td>\n",
       "      <td>15,61</td>\n",
       "      <td>10,95</td>\n",
       "      <td>3,28</td>\n",
       "      <td>2,95</td>\n",
       "      <td>32,78</td>\n",
       "      <td>E</td>\n",
       "      <td>Excelente</td>\n",
       "    </tr>\n",
       "    <tr>\n",
       "      <th>3</th>\n",
       "      <td>DS</td>\n",
       "      <td>Platform</td>\n",
       "      <td>Nintendo</td>\n",
       "      <td>11,28</td>\n",
       "      <td>9,15</td>\n",
       "      <td>6,5</td>\n",
       "      <td>2,88</td>\n",
       "      <td>29,81</td>\n",
       "      <td>E</td>\n",
       "      <td>Excelente</td>\n",
       "    </tr>\n",
       "    <tr>\n",
       "      <th>4</th>\n",
       "      <td>Wii</td>\n",
       "      <td>Misc</td>\n",
       "      <td>Nintendo</td>\n",
       "      <td>13,96</td>\n",
       "      <td>9,18</td>\n",
       "      <td>2,93</td>\n",
       "      <td>2,84</td>\n",
       "      <td>28,92</td>\n",
       "      <td>E</td>\n",
       "      <td>Malo</td>\n",
       "    </tr>\n",
       "  </tbody>\n",
       "</table>\n",
       "</div>"
      ],
      "text/plain": [
       "  Platform     Genre Publisher NA_Sales EU_Sales JP_Sales Other_Sales  \\\n",
       "0      Wii    Sports  Nintendo    41,36    28,96     3,77        8,45   \n",
       "1      Wii    Racing  Nintendo    15,68     12,8     3,79        3,29   \n",
       "2      Wii    Sports  Nintendo    15,61    10,95     3,28        2,95   \n",
       "3       DS  Platform  Nintendo    11,28     9,15      6,5        2,88   \n",
       "4      Wii      Misc  Nintendo    13,96     9,18     2,93        2,84   \n",
       "\n",
       "  Global_Sales Rating Critic_Score_Class  \n",
       "0        82,54      E              Bueno  \n",
       "1        35,57      E          Excelente  \n",
       "2        32,78      E          Excelente  \n",
       "3        29,81      E          Excelente  \n",
       "4        28,92      E               Malo  "
      ]
     },
     "execution_count": 6,
     "metadata": {},
     "output_type": "execute_result"
    }
   ],
   "source": [
    "# lendo dados csv\n",
    "df = pd.read_csv('datasets_videogames.csv')\n",
    "df.head()"
   ]
  },
  {
   "cell_type": "code",
   "execution_count": 7,
   "metadata": {},
   "outputs": [],
   "source": [
    "df.columns = ['plataforma', 'genero', 'empresa', 'vendasNorteAmericanas', 'vendasEuropa', \n",
    "                      'vendasJapao','outrasVendas', 'vendasGlobais', 'classificacao', 'classificacaoCritica']"
   ]
  },
  {
   "cell_type": "code",
   "execution_count": 28,
   "metadata": {},
   "outputs": [
    {
     "data": {
      "text/html": [
       "<div>\n",
       "<style scoped>\n",
       "    .dataframe tbody tr th:only-of-type {\n",
       "        vertical-align: middle;\n",
       "    }\n",
       "\n",
       "    .dataframe tbody tr th {\n",
       "        vertical-align: top;\n",
       "    }\n",
       "\n",
       "    .dataframe thead th {\n",
       "        text-align: right;\n",
       "    }\n",
       "</style>\n",
       "<table border=\"1\" class=\"dataframe\">\n",
       "  <thead>\n",
       "    <tr style=\"text-align: right;\">\n",
       "      <th></th>\n",
       "      <th>plataforma</th>\n",
       "      <th>genero</th>\n",
       "      <th>empresa</th>\n",
       "      <th>vendasNorteAmericanas</th>\n",
       "      <th>vendasEuropa</th>\n",
       "      <th>vendasJapao</th>\n",
       "      <th>outrasVendas</th>\n",
       "      <th>vendasGlobais</th>\n",
       "      <th>classificacao</th>\n",
       "      <th>classificacaoCritica</th>\n",
       "    </tr>\n",
       "  </thead>\n",
       "  <tbody>\n",
       "    <tr>\n",
       "      <th>0</th>\n",
       "      <td>Wii</td>\n",
       "      <td>Sports</td>\n",
       "      <td>Nintendo</td>\n",
       "      <td>41,36</td>\n",
       "      <td>28,96</td>\n",
       "      <td>3,77</td>\n",
       "      <td>8,45</td>\n",
       "      <td>82,54</td>\n",
       "      <td>E</td>\n",
       "      <td>Bueno</td>\n",
       "    </tr>\n",
       "    <tr>\n",
       "      <th>1</th>\n",
       "      <td>Wii</td>\n",
       "      <td>Racing</td>\n",
       "      <td>Nintendo</td>\n",
       "      <td>15,68</td>\n",
       "      <td>12,8</td>\n",
       "      <td>3,79</td>\n",
       "      <td>3,29</td>\n",
       "      <td>35,57</td>\n",
       "      <td>E</td>\n",
       "      <td>Excelente</td>\n",
       "    </tr>\n",
       "    <tr>\n",
       "      <th>2</th>\n",
       "      <td>Wii</td>\n",
       "      <td>Sports</td>\n",
       "      <td>Nintendo</td>\n",
       "      <td>15,61</td>\n",
       "      <td>10,95</td>\n",
       "      <td>3,28</td>\n",
       "      <td>2,95</td>\n",
       "      <td>32,78</td>\n",
       "      <td>E</td>\n",
       "      <td>Excelente</td>\n",
       "    </tr>\n",
       "    <tr>\n",
       "      <th>3</th>\n",
       "      <td>DS</td>\n",
       "      <td>Platform</td>\n",
       "      <td>Nintendo</td>\n",
       "      <td>11,28</td>\n",
       "      <td>9,15</td>\n",
       "      <td>6,5</td>\n",
       "      <td>2,88</td>\n",
       "      <td>29,81</td>\n",
       "      <td>E</td>\n",
       "      <td>Excelente</td>\n",
       "    </tr>\n",
       "    <tr>\n",
       "      <th>4</th>\n",
       "      <td>Wii</td>\n",
       "      <td>Misc</td>\n",
       "      <td>Nintendo</td>\n",
       "      <td>13,96</td>\n",
       "      <td>9,18</td>\n",
       "      <td>2,93</td>\n",
       "      <td>2,84</td>\n",
       "      <td>28,92</td>\n",
       "      <td>E</td>\n",
       "      <td>Malo</td>\n",
       "    </tr>\n",
       "    <tr>\n",
       "      <th>...</th>\n",
       "      <td>...</td>\n",
       "      <td>...</td>\n",
       "      <td>...</td>\n",
       "      <td>...</td>\n",
       "      <td>...</td>\n",
       "      <td>...</td>\n",
       "      <td>...</td>\n",
       "      <td>...</td>\n",
       "      <td>...</td>\n",
       "      <td>...</td>\n",
       "    </tr>\n",
       "    <tr>\n",
       "      <th>7107</th>\n",
       "      <td>PC</td>\n",
       "      <td>Action</td>\n",
       "      <td>Ubisoft</td>\n",
       "      <td>0</td>\n",
       "      <td>0</td>\n",
       "      <td>0</td>\n",
       "      <td>0</td>\n",
       "      <td>0,01</td>\n",
       "      <td>T</td>\n",
       "      <td>Excelente</td>\n",
       "    </tr>\n",
       "    <tr>\n",
       "      <th>7108</th>\n",
       "      <td>PC</td>\n",
       "      <td>Shooter</td>\n",
       "      <td>Midway Games</td>\n",
       "      <td>0</td>\n",
       "      <td>0</td>\n",
       "      <td>0</td>\n",
       "      <td>0</td>\n",
       "      <td>0,01</td>\n",
       "      <td>T</td>\n",
       "      <td>Aceptable</td>\n",
       "    </tr>\n",
       "    <tr>\n",
       "      <th>7109</th>\n",
       "      <td>PC</td>\n",
       "      <td>Sports</td>\n",
       "      <td>Sega</td>\n",
       "      <td>0</td>\n",
       "      <td>0</td>\n",
       "      <td>0</td>\n",
       "      <td>0</td>\n",
       "      <td>0,01</td>\n",
       "      <td>E</td>\n",
       "      <td>Aceptable</td>\n",
       "    </tr>\n",
       "    <tr>\n",
       "      <th>7110</th>\n",
       "      <td>PC</td>\n",
       "      <td>Strategy</td>\n",
       "      <td>Take-Two Interactive</td>\n",
       "      <td>0</td>\n",
       "      <td>0</td>\n",
       "      <td>0</td>\n",
       "      <td>0</td>\n",
       "      <td>0,01</td>\n",
       "      <td>E10+</td>\n",
       "      <td>Aceptable</td>\n",
       "    </tr>\n",
       "    <tr>\n",
       "      <th>7111</th>\n",
       "      <td>PS4</td>\n",
       "      <td>Platform</td>\n",
       "      <td>Team Meat</td>\n",
       "      <td>0</td>\n",
       "      <td>0</td>\n",
       "      <td>0</td>\n",
       "      <td>0</td>\n",
       "      <td>0,01</td>\n",
       "      <td>T</td>\n",
       "      <td>Excelente</td>\n",
       "    </tr>\n",
       "  </tbody>\n",
       "</table>\n",
       "<p>7112 rows × 10 columns</p>\n",
       "</div>"
      ],
      "text/plain": [
       "     plataforma    genero               empresa vendasNorteAmericanas  \\\n",
       "0           Wii    Sports              Nintendo                 41,36   \n",
       "1           Wii    Racing              Nintendo                 15,68   \n",
       "2           Wii    Sports              Nintendo                 15,61   \n",
       "3            DS  Platform              Nintendo                 11,28   \n",
       "4           Wii      Misc              Nintendo                 13,96   \n",
       "...         ...       ...                   ...                   ...   \n",
       "7107         PC    Action               Ubisoft                     0   \n",
       "7108         PC   Shooter          Midway Games                     0   \n",
       "7109         PC    Sports                  Sega                     0   \n",
       "7110         PC  Strategy  Take-Two Interactive                     0   \n",
       "7111        PS4  Platform             Team Meat                     0   \n",
       "\n",
       "     vendasEuropa vendasJapao outrasVendas vendasGlobais classificacao  \\\n",
       "0           28,96        3,77         8,45         82,54             E   \n",
       "1            12,8        3,79         3,29         35,57             E   \n",
       "2           10,95        3,28         2,95         32,78             E   \n",
       "3            9,15         6,5         2,88         29,81             E   \n",
       "4            9,18        2,93         2,84         28,92             E   \n",
       "...           ...         ...          ...           ...           ...   \n",
       "7107            0           0            0          0,01             T   \n",
       "7108            0           0            0          0,01             T   \n",
       "7109            0           0            0          0,01             E   \n",
       "7110            0           0            0          0,01          E10+   \n",
       "7111            0           0            0          0,01             T   \n",
       "\n",
       "     classificacaoCritica  \n",
       "0                   Bueno  \n",
       "1               Excelente  \n",
       "2               Excelente  \n",
       "3               Excelente  \n",
       "4                    Malo  \n",
       "...                   ...  \n",
       "7107            Excelente  \n",
       "7108            Aceptable  \n",
       "7109            Aceptable  \n",
       "7110            Aceptable  \n",
       "7111            Excelente  \n",
       "\n",
       "[7112 rows x 10 columns]"
      ]
     },
     "execution_count": 28,
     "metadata": {},
     "output_type": "execute_result"
    }
   ],
   "source": [
    "df"
   ]
  },
  {
   "cell_type": "code",
   "execution_count": 31,
   "metadata": {},
   "outputs": [
    {
     "data": {
      "text/plain": [
       "array(['Bueno', 'Excelente', 'Malo', 'Aceptable'], dtype=object)"
      ]
     },
     "execution_count": 31,
     "metadata": {},
     "output_type": "execute_result"
    }
   ],
   "source": [
    "df.classificacaoCritica.unique()"
   ]
  },
  {
   "cell_type": "code",
   "execution_count": 29,
   "metadata": {},
   "outputs": [
    {
     "data": {
      "text/plain": [
       "<bound method NDFrame._add_numeric_operations.<locals>.sum of plataforma                    Wii\n",
       "genero                     Sports\n",
       "empresa                  Nintendo\n",
       "vendasNorteAmericanas       41,36\n",
       "vendasEuropa                28,96\n",
       "vendasJapao                  3,77\n",
       "outrasVendas                 8,45\n",
       "vendasGlobais               82,54\n",
       "classificacao                   E\n",
       "classificacaoCritica        Bueno\n",
       "Name: 0, dtype: object>"
      ]
     },
     "execution_count": 29,
     "metadata": {},
     "output_type": "execute_result"
    }
   ],
   "source": [
    "df.iloc[0].sum"
   ]
  },
  {
   "cell_type": "code",
   "execution_count": 88,
   "metadata": {},
   "outputs": [
    {
     "data": {
      "text/html": [
       "<div>\n",
       "<style scoped>\n",
       "    .dataframe tbody tr th:only-of-type {\n",
       "        vertical-align: middle;\n",
       "    }\n",
       "\n",
       "    .dataframe tbody tr th {\n",
       "        vertical-align: top;\n",
       "    }\n",
       "\n",
       "    .dataframe thead th {\n",
       "        text-align: right;\n",
       "    }\n",
       "</style>\n",
       "<table border=\"1\" class=\"dataframe\">\n",
       "  <thead>\n",
       "    <tr style=\"text-align: right;\">\n",
       "      <th></th>\n",
       "      <th>plataforma</th>\n",
       "      <th>genero</th>\n",
       "      <th>empresa</th>\n",
       "      <th>vendasNorteAmericanas</th>\n",
       "      <th>vendasEuropa</th>\n",
       "      <th>vendasJapao</th>\n",
       "      <th>outrasVendas</th>\n",
       "      <th>vendasGlobais</th>\n",
       "      <th>classificacao</th>\n",
       "      <th>classificacaoCritica</th>\n",
       "    </tr>\n",
       "  </thead>\n",
       "  <tbody>\n",
       "    <tr>\n",
       "      <th>0</th>\n",
       "      <td>Wii</td>\n",
       "      <td>Sports</td>\n",
       "      <td>Nintendo</td>\n",
       "      <td>41,36</td>\n",
       "      <td>28,96</td>\n",
       "      <td>3,77</td>\n",
       "      <td>8,45</td>\n",
       "      <td>82,54</td>\n",
       "      <td>E</td>\n",
       "      <td>Bueno</td>\n",
       "    </tr>\n",
       "    <tr>\n",
       "      <th>1</th>\n",
       "      <td>Wii</td>\n",
       "      <td>Racing</td>\n",
       "      <td>Nintendo</td>\n",
       "      <td>15,68</td>\n",
       "      <td>12,8</td>\n",
       "      <td>3,79</td>\n",
       "      <td>3,29</td>\n",
       "      <td>35,57</td>\n",
       "      <td>E</td>\n",
       "      <td>Excelente</td>\n",
       "    </tr>\n",
       "    <tr>\n",
       "      <th>2</th>\n",
       "      <td>Wii</td>\n",
       "      <td>Sports</td>\n",
       "      <td>Nintendo</td>\n",
       "      <td>15,61</td>\n",
       "      <td>10,95</td>\n",
       "      <td>3,28</td>\n",
       "      <td>2,95</td>\n",
       "      <td>32,78</td>\n",
       "      <td>E</td>\n",
       "      <td>Excelente</td>\n",
       "    </tr>\n",
       "    <tr>\n",
       "      <th>3</th>\n",
       "      <td>DS</td>\n",
       "      <td>Platform</td>\n",
       "      <td>Nintendo</td>\n",
       "      <td>11,28</td>\n",
       "      <td>9,15</td>\n",
       "      <td>6,5</td>\n",
       "      <td>2,88</td>\n",
       "      <td>29,81</td>\n",
       "      <td>E</td>\n",
       "      <td>Excelente</td>\n",
       "    </tr>\n",
       "    <tr>\n",
       "      <th>4</th>\n",
       "      <td>Wii</td>\n",
       "      <td>Misc</td>\n",
       "      <td>Nintendo</td>\n",
       "      <td>13,96</td>\n",
       "      <td>9,18</td>\n",
       "      <td>2,93</td>\n",
       "      <td>2,84</td>\n",
       "      <td>28,92</td>\n",
       "      <td>E</td>\n",
       "      <td>Malo</td>\n",
       "    </tr>\n",
       "    <tr>\n",
       "      <th>...</th>\n",
       "      <td>...</td>\n",
       "      <td>...</td>\n",
       "      <td>...</td>\n",
       "      <td>...</td>\n",
       "      <td>...</td>\n",
       "      <td>...</td>\n",
       "      <td>...</td>\n",
       "      <td>...</td>\n",
       "      <td>...</td>\n",
       "      <td>...</td>\n",
       "    </tr>\n",
       "    <tr>\n",
       "      <th>7107</th>\n",
       "      <td>PC</td>\n",
       "      <td>Action</td>\n",
       "      <td>Ubisoft</td>\n",
       "      <td>0</td>\n",
       "      <td>0</td>\n",
       "      <td>0</td>\n",
       "      <td>0</td>\n",
       "      <td>0,01</td>\n",
       "      <td>T</td>\n",
       "      <td>Excelente</td>\n",
       "    </tr>\n",
       "    <tr>\n",
       "      <th>7108</th>\n",
       "      <td>PC</td>\n",
       "      <td>Shooter</td>\n",
       "      <td>Midway Games</td>\n",
       "      <td>0</td>\n",
       "      <td>0</td>\n",
       "      <td>0</td>\n",
       "      <td>0</td>\n",
       "      <td>0,01</td>\n",
       "      <td>T</td>\n",
       "      <td>Aceptable</td>\n",
       "    </tr>\n",
       "    <tr>\n",
       "      <th>7109</th>\n",
       "      <td>PC</td>\n",
       "      <td>Sports</td>\n",
       "      <td>Sega</td>\n",
       "      <td>0</td>\n",
       "      <td>0</td>\n",
       "      <td>0</td>\n",
       "      <td>0</td>\n",
       "      <td>0,01</td>\n",
       "      <td>E</td>\n",
       "      <td>Aceptable</td>\n",
       "    </tr>\n",
       "    <tr>\n",
       "      <th>7110</th>\n",
       "      <td>PC</td>\n",
       "      <td>Strategy</td>\n",
       "      <td>Take-Two Interactive</td>\n",
       "      <td>0</td>\n",
       "      <td>0</td>\n",
       "      <td>0</td>\n",
       "      <td>0</td>\n",
       "      <td>0,01</td>\n",
       "      <td>E10+</td>\n",
       "      <td>Aceptable</td>\n",
       "    </tr>\n",
       "    <tr>\n",
       "      <th>7111</th>\n",
       "      <td>PS4</td>\n",
       "      <td>Platform</td>\n",
       "      <td>Team Meat</td>\n",
       "      <td>0</td>\n",
       "      <td>0</td>\n",
       "      <td>0</td>\n",
       "      <td>0</td>\n",
       "      <td>0,01</td>\n",
       "      <td>T</td>\n",
       "      <td>Excelente</td>\n",
       "    </tr>\n",
       "  </tbody>\n",
       "</table>\n",
       "<p>7112 rows × 10 columns</p>\n",
       "</div>"
      ],
      "text/plain": [
       "     plataforma    genero               empresa vendasNorteAmericanas  \\\n",
       "0           Wii    Sports              Nintendo                 41,36   \n",
       "1           Wii    Racing              Nintendo                 15,68   \n",
       "2           Wii    Sports              Nintendo                 15,61   \n",
       "3            DS  Platform              Nintendo                 11,28   \n",
       "4           Wii      Misc              Nintendo                 13,96   \n",
       "...         ...       ...                   ...                   ...   \n",
       "7107         PC    Action               Ubisoft                     0   \n",
       "7108         PC   Shooter          Midway Games                     0   \n",
       "7109         PC    Sports                  Sega                     0   \n",
       "7110         PC  Strategy  Take-Two Interactive                     0   \n",
       "7111        PS4  Platform             Team Meat                     0   \n",
       "\n",
       "     vendasEuropa vendasJapao outrasVendas vendasGlobais classificacao  \\\n",
       "0           28,96        3,77         8,45         82,54             E   \n",
       "1            12,8        3,79         3,29         35,57             E   \n",
       "2           10,95        3,28         2,95         32,78             E   \n",
       "3            9,15         6,5         2,88         29,81             E   \n",
       "4            9,18        2,93         2,84         28,92             E   \n",
       "...           ...         ...          ...           ...           ...   \n",
       "7107            0           0            0          0,01             T   \n",
       "7108            0           0            0          0,01             T   \n",
       "7109            0           0            0          0,01             E   \n",
       "7110            0           0            0          0,01          E10+   \n",
       "7111            0           0            0          0,01             T   \n",
       "\n",
       "     classificacaoCritica  \n",
       "0                   Bueno  \n",
       "1               Excelente  \n",
       "2               Excelente  \n",
       "3               Excelente  \n",
       "4                    Malo  \n",
       "...                   ...  \n",
       "7107            Excelente  \n",
       "7108            Aceptable  \n",
       "7109            Aceptable  \n",
       "7110            Aceptable  \n",
       "7111            Excelente  \n",
       "\n",
       "[7112 rows x 10 columns]"
      ]
     },
     "execution_count": 88,
     "metadata": {},
     "output_type": "execute_result"
    }
   ],
   "source": [
    "df"
   ]
  },
  {
   "cell_type": "code",
   "execution_count": 89,
   "metadata": {
    "scrolled": true
   },
   "outputs": [
    {
     "data": {
      "text/plain": [
       "PS2     1169\n",
       "X360     888\n",
       "PS3      790\n",
       "PC       734\n",
       "X        586\n",
       "Wii      493\n",
       "DS       472\n",
       "PSP      401\n",
       "GC       363\n",
       "PS4      255\n",
       "GBA      249\n",
       "XOne     169\n",
       "3DS      161\n",
       "PS       154\n",
       "PSV      125\n",
       "WiiU      89\n",
       "DC        14\n",
       "Name: plataforma, dtype: int64"
      ]
     },
     "execution_count": 89,
     "metadata": {},
     "output_type": "execute_result"
    }
   ],
   "source": [
    "df['plataforma'].value_counts()"
   ]
  },
  {
   "cell_type": "code",
   "execution_count": 90,
   "metadata": {},
   "outputs": [
    {
     "data": {
      "text/plain": [
       "Text(0.5, 0, 'Quantidade de títulos lançados')"
      ]
     },
     "execution_count": 90,
     "metadata": {},
     "output_type": "execute_result"
    },
    {
     "data": {
      "image/png": "[encoded data removed]",
      "text/plain": [
       "<Figure size 1008x576 with 1 Axes>"
      ]
     },
     "metadata": {},
     "output_type": "display_data"
    }
   ],
   "source": [
    "df['plataforma'].value_counts().plot(kind='barh', figsize=(14,8), grid=False, color='purple')\n",
    "\n",
    "plt.title('Os vídeo-games com mais títulos lançados')\n",
    "plt.ylabel('Plataformas')\n",
    "plt.xlabel('Quantidade de títulos lançados')"
   ]
  },
  {
   "cell_type": "markdown",
   "metadata": {},
   "source": [
    "# Explorando os dados categóricos."
   ]
  },
  {
   "cell_type": "code",
   "execution_count": 91,
   "metadata": {},
   "outputs": [
    {
     "data": {
      "text/html": [
       "<div>\n",
       "<style scoped>\n",
       "    .dataframe tbody tr th:only-of-type {\n",
       "        vertical-align: middle;\n",
       "    }\n",
       "\n",
       "    .dataframe tbody tr th {\n",
       "        vertical-align: top;\n",
       "    }\n",
       "\n",
       "    .dataframe thead th {\n",
       "        text-align: right;\n",
       "    }\n",
       "</style>\n",
       "<table border=\"1\" class=\"dataframe\">\n",
       "  <thead>\n",
       "    <tr style=\"text-align: right;\">\n",
       "      <th></th>\n",
       "      <th>plataforma</th>\n",
       "      <th>genero</th>\n",
       "      <th>empresa</th>\n",
       "      <th>vendasNorteAmericanas</th>\n",
       "      <th>vendasEuropa</th>\n",
       "      <th>vendasJapao</th>\n",
       "      <th>outrasVendas</th>\n",
       "      <th>vendasGlobais</th>\n",
       "      <th>classificacao</th>\n",
       "      <th>classificacaoCritica</th>\n",
       "    </tr>\n",
       "  </thead>\n",
       "  <tbody>\n",
       "    <tr>\n",
       "      <th>0</th>\n",
       "      <td>Wii</td>\n",
       "      <td>Sports</td>\n",
       "      <td>Nintendo</td>\n",
       "      <td>41,36</td>\n",
       "      <td>28,96</td>\n",
       "      <td>3,77</td>\n",
       "      <td>8,45</td>\n",
       "      <td>82,54</td>\n",
       "      <td>E</td>\n",
       "      <td>Bueno</td>\n",
       "    </tr>\n",
       "    <tr>\n",
       "      <th>1</th>\n",
       "      <td>Wii</td>\n",
       "      <td>Racing</td>\n",
       "      <td>Nintendo</td>\n",
       "      <td>15,68</td>\n",
       "      <td>12,8</td>\n",
       "      <td>3,79</td>\n",
       "      <td>3,29</td>\n",
       "      <td>35,57</td>\n",
       "      <td>E</td>\n",
       "      <td>Excelente</td>\n",
       "    </tr>\n",
       "    <tr>\n",
       "      <th>2</th>\n",
       "      <td>Wii</td>\n",
       "      <td>Sports</td>\n",
       "      <td>Nintendo</td>\n",
       "      <td>15,61</td>\n",
       "      <td>10,95</td>\n",
       "      <td>3,28</td>\n",
       "      <td>2,95</td>\n",
       "      <td>32,78</td>\n",
       "      <td>E</td>\n",
       "      <td>Excelente</td>\n",
       "    </tr>\n",
       "    <tr>\n",
       "      <th>3</th>\n",
       "      <td>DS</td>\n",
       "      <td>Platform</td>\n",
       "      <td>Nintendo</td>\n",
       "      <td>11,28</td>\n",
       "      <td>9,15</td>\n",
       "      <td>6,5</td>\n",
       "      <td>2,88</td>\n",
       "      <td>29,81</td>\n",
       "      <td>E</td>\n",
       "      <td>Excelente</td>\n",
       "    </tr>\n",
       "    <tr>\n",
       "      <th>4</th>\n",
       "      <td>Wii</td>\n",
       "      <td>Misc</td>\n",
       "      <td>Nintendo</td>\n",
       "      <td>13,96</td>\n",
       "      <td>9,18</td>\n",
       "      <td>2,93</td>\n",
       "      <td>2,84</td>\n",
       "      <td>28,92</td>\n",
       "      <td>E</td>\n",
       "      <td>Malo</td>\n",
       "    </tr>\n",
       "  </tbody>\n",
       "</table>\n",
       "</div>"
      ],
      "text/plain": [
       "  plataforma    genero   empresa vendasNorteAmericanas vendasEuropa  \\\n",
       "0        Wii    Sports  Nintendo                 41,36        28,96   \n",
       "1        Wii    Racing  Nintendo                 15,68         12,8   \n",
       "2        Wii    Sports  Nintendo                 15,61        10,95   \n",
       "3         DS  Platform  Nintendo                 11,28         9,15   \n",
       "4        Wii      Misc  Nintendo                 13,96         9,18   \n",
       "\n",
       "  vendasJapao outrasVendas vendasGlobais classificacao classificacaoCritica  \n",
       "0        3,77         8,45         82,54             E                Bueno  \n",
       "1        3,79         3,29         35,57             E            Excelente  \n",
       "2        3,28         2,95         32,78             E            Excelente  \n",
       "3         6,5         2,88         29,81             E            Excelente  \n",
       "4        2,93         2,84         28,92             E                 Malo  "
      ]
     },
     "execution_count": 91,
     "metadata": {},
     "output_type": "execute_result"
    }
   ],
   "source": [
    "df.head()"
   ]
  },
  {
   "cell_type": "markdown",
   "metadata": {},
   "source": [
    "Temos como dados categóricos as variáveis: plataforma, gênero, empresa e classificação crítica."
   ]
  },
  {
   "cell_type": "code",
   "execution_count": 92,
   "metadata": {},
   "outputs": [
    {
     "data": {
      "text/plain": [
       "plataforma\n",
       "3DS      161\n",
       "DC        14\n",
       "DS       472\n",
       "GBA      249\n",
       "GC       363\n",
       "PC       734\n",
       "PS       154\n",
       "PS2     1169\n",
       "PS3      790\n",
       "PS4      255\n",
       "PSP      401\n",
       "PSV      125\n",
       "Wii      493\n",
       "WiiU      89\n",
       "X        586\n",
       "X360     888\n",
       "XOne     169\n",
       "dtype: int64"
      ]
     },
     "execution_count": 92,
     "metadata": {},
     "output_type": "execute_result"
    }
   ],
   "source": [
    "dadosCategoricos1 = df.groupby(['plataforma']).size()\n",
    "dadosCategoricos1"
   ]
  },
  {
   "cell_type": "code",
   "execution_count": 93,
   "metadata": {},
   "outputs": [
    {
     "data": {
      "text/plain": [
       "<matplotlib.axes._subplots.AxesSubplot at 0x1f219925f08>"
      ]
     },
     "execution_count": 93,
     "metadata": {},
     "output_type": "execute_result"
    },
    {
     "data": {
      "image/png": "[encoded data removed]",
      "text/plain": [
       "<Figure size 432x288 with 1 Axes>"
      ]
     },
     "metadata": {},
     "output_type": "display_data"
    }
   ],
   "source": [
    "dadosCategoricos1.plot.bar(color='grey', grid=False)"
   ]
  },
  {
   "cell_type": "code",
   "execution_count": 94,
   "metadata": {},
   "outputs": [
    {
     "data": {
      "text/plain": [
       "genero\n",
       "Action          1698\n",
       "Adventure        260\n",
       "Fighting         392\n",
       "Misc             399\n",
       "Platform         412\n",
       "Puzzle           127\n",
       "Racing           600\n",
       "Role-Playing     739\n",
       "Shooter          900\n",
       "Simulation       312\n",
       "Sports           981\n",
       "Strategy         292\n",
       "dtype: int64"
      ]
     },
     "execution_count": 94,
     "metadata": {},
     "output_type": "execute_result"
    }
   ],
   "source": [
    "dadosCategoricos2 = df.groupby(['genero']).size()\n",
    "dadosCategoricos2"
   ]
  },
  {
   "cell_type": "code",
   "execution_count": 95,
   "metadata": {},
   "outputs": [
    {
     "data": {
      "text/plain": [
       "<matplotlib.axes._subplots.AxesSubplot at 0x1f21970a048>"
      ]
     },
     "execution_count": 95,
     "metadata": {},
     "output_type": "execute_result"
    },
    {
     "data": {
      "image/png": "[encoded data removed]",
      "text/plain": [
       "<Figure size 432x288 with 1 Axes>"
      ]
     },
     "metadata": {},
     "output_type": "display_data"
    }
   ],
   "source": [
    "dadosCategoricos2.plot.bar(color='grey', grid=False)"
   ]
  },
  {
   "cell_type": "code",
   "execution_count": 96,
   "metadata": {},
   "outputs": [
    {
     "data": {
      "text/plain": [
       "empresa\n",
       "10TACLE Studios          1\n",
       "1C Company               2\n",
       "2D Boy                   1\n",
       "3DO                     15\n",
       "505 Games               87\n",
       "                        ..\n",
       "Zoo Games                3\n",
       "Zushi Games              1\n",
       "bitComposer Games        2\n",
       "id Software              1\n",
       "inXile Entertainment     1\n",
       "Length: 278, dtype: int64"
      ]
     },
     "execution_count": 96,
     "metadata": {},
     "output_type": "execute_result"
    }
   ],
   "source": [
    "dadosCategoricos3 = df.groupby(['empresa']).size()\n",
    "dadosCategoricos3"
   ]
  },
  {
   "cell_type": "code",
   "execution_count": 97,
   "metadata": {},
   "outputs": [
    {
     "data": {
      "text/plain": [
       "<matplotlib.axes._subplots.AxesSubplot at 0x1f21979e988>"
      ]
     },
     "execution_count": 97,
     "metadata": {},
     "output_type": "execute_result"
    },
    {
     "data": {
      "image/png": "[encoded data removed]",
      "text/plain": [
       "<Figure size 1584x576 with 1 Axes>"
      ]
     },
     "metadata": {},
     "output_type": "display_data"
    }
   ],
   "source": [
    "dadosCategoricos3.plot(figsize=(22,8))"
   ]
  },
  {
   "cell_type": "markdown",
   "metadata": {},
   "source": [
    "Veja que acima o nosso gráfico não nos deu muita informação, não foi?\n",
    "Veja na célula acima que existe 278 dados e isso é muito para esta ferramenta."
   ]
  },
  {
   "cell_type": "code",
   "execution_count": 98,
   "metadata": {},
   "outputs": [
    {
     "data": {
      "text/plain": [
       "classificacaoCritica\n",
       "Aceptable    1698\n",
       "Bueno        1957\n",
       "Excelente    1997\n",
       "Malo         1460\n",
       "dtype: int64"
      ]
     },
     "execution_count": 98,
     "metadata": {},
     "output_type": "execute_result"
    }
   ],
   "source": [
    "dadosCategoricos4 = df.groupby(['classificacaoCritica']).size()\n",
    "dadosCategoricos4"
   ]
  },
  {
   "cell_type": "code",
   "execution_count": 99,
   "metadata": {},
   "outputs": [
    {
     "data": {
      "text/plain": [
       "<matplotlib.axes._subplots.AxesSubplot at 0x1f219807a48>"
      ]
     },
     "execution_count": 99,
     "metadata": {},
     "output_type": "execute_result"
    },
    {
     "data": {
      "image/png": "[encoded data removed]",
      "text/plain": [
       "<Figure size 432x288 with 1 Axes>"
      ]
     },
     "metadata": {},
     "output_type": "display_data"
    }
   ],
   "source": [
    "dadosCategoricos4.plot.bar(color='grey')"
   ]
  },
  {
   "cell_type": "markdown",
   "metadata": {},
   "source": [
    "# Não percebemos nenhuma anomalia nos dados categóricos."
   ]
  },
  {
   "cell_type": "code",
   "execution_count": 100,
   "metadata": {},
   "outputs": [
    {
     "data": {
      "text/html": [
       "<div>\n",
       "<style scoped>\n",
       "    .dataframe tbody tr th:only-of-type {\n",
       "        vertical-align: middle;\n",
       "    }\n",
       "\n",
       "    .dataframe tbody tr th {\n",
       "        vertical-align: top;\n",
       "    }\n",
       "\n",
       "    .dataframe thead th {\n",
       "        text-align: right;\n",
       "    }\n",
       "</style>\n",
       "<table border=\"1\" class=\"dataframe\">\n",
       "  <thead>\n",
       "    <tr style=\"text-align: right;\">\n",
       "      <th></th>\n",
       "      <th>plataforma</th>\n",
       "      <th>genero</th>\n",
       "      <th>empresa</th>\n",
       "      <th>vendasNorteAmericanas</th>\n",
       "      <th>vendasEuropa</th>\n",
       "      <th>vendasJapao</th>\n",
       "      <th>outrasVendas</th>\n",
       "      <th>vendasGlobais</th>\n",
       "      <th>classificacao</th>\n",
       "      <th>classificacaoCritica</th>\n",
       "    </tr>\n",
       "  </thead>\n",
       "  <tbody>\n",
       "    <tr>\n",
       "      <th>0</th>\n",
       "      <td>Wii</td>\n",
       "      <td>Sports</td>\n",
       "      <td>Nintendo</td>\n",
       "      <td>41,36</td>\n",
       "      <td>28,96</td>\n",
       "      <td>3,77</td>\n",
       "      <td>8,45</td>\n",
       "      <td>82,54</td>\n",
       "      <td>E</td>\n",
       "      <td>Bueno</td>\n",
       "    </tr>\n",
       "    <tr>\n",
       "      <th>1</th>\n",
       "      <td>Wii</td>\n",
       "      <td>Racing</td>\n",
       "      <td>Nintendo</td>\n",
       "      <td>15,68</td>\n",
       "      <td>12,8</td>\n",
       "      <td>3,79</td>\n",
       "      <td>3,29</td>\n",
       "      <td>35,57</td>\n",
       "      <td>E</td>\n",
       "      <td>Excelente</td>\n",
       "    </tr>\n",
       "    <tr>\n",
       "      <th>2</th>\n",
       "      <td>Wii</td>\n",
       "      <td>Sports</td>\n",
       "      <td>Nintendo</td>\n",
       "      <td>15,61</td>\n",
       "      <td>10,95</td>\n",
       "      <td>3,28</td>\n",
       "      <td>2,95</td>\n",
       "      <td>32,78</td>\n",
       "      <td>E</td>\n",
       "      <td>Excelente</td>\n",
       "    </tr>\n",
       "    <tr>\n",
       "      <th>3</th>\n",
       "      <td>DS</td>\n",
       "      <td>Platform</td>\n",
       "      <td>Nintendo</td>\n",
       "      <td>11,28</td>\n",
       "      <td>9,15</td>\n",
       "      <td>6,5</td>\n",
       "      <td>2,88</td>\n",
       "      <td>29,81</td>\n",
       "      <td>E</td>\n",
       "      <td>Excelente</td>\n",
       "    </tr>\n",
       "    <tr>\n",
       "      <th>4</th>\n",
       "      <td>Wii</td>\n",
       "      <td>Misc</td>\n",
       "      <td>Nintendo</td>\n",
       "      <td>13,96</td>\n",
       "      <td>9,18</td>\n",
       "      <td>2,93</td>\n",
       "      <td>2,84</td>\n",
       "      <td>28,92</td>\n",
       "      <td>E</td>\n",
       "      <td>Malo</td>\n",
       "    </tr>\n",
       "  </tbody>\n",
       "</table>\n",
       "</div>"
      ],
      "text/plain": [
       "  plataforma    genero   empresa vendasNorteAmericanas vendasEuropa  \\\n",
       "0        Wii    Sports  Nintendo                 41,36        28,96   \n",
       "1        Wii    Racing  Nintendo                 15,68         12,8   \n",
       "2        Wii    Sports  Nintendo                 15,61        10,95   \n",
       "3         DS  Platform  Nintendo                 11,28         9,15   \n",
       "4        Wii      Misc  Nintendo                 13,96         9,18   \n",
       "\n",
       "  vendasJapao outrasVendas vendasGlobais classificacao classificacaoCritica  \n",
       "0        3,77         8,45         82,54             E                Bueno  \n",
       "1        3,79         3,29         35,57             E            Excelente  \n",
       "2        3,28         2,95         32,78             E            Excelente  \n",
       "3         6,5         2,88         29,81             E            Excelente  \n",
       "4        2,93         2,84         28,92             E                 Malo  "
      ]
     },
     "execution_count": 100,
     "metadata": {},
     "output_type": "execute_result"
    }
   ],
   "source": [
    "df.head()"
   ]
  },
  {
   "cell_type": "markdown",
   "metadata": {},
   "source": [
    "# Agora podemos estudar os dados numéricos.\n",
    "\n",
    "Os nossos dados numéricos consistem em Vendas norte-americanas, Vendas na Europa, Vendas no Japão, Outras Vendas e Vendas globais."
   ]
  },
  {
   "cell_type": "code",
   "execution_count": 101,
   "metadata": {},
   "outputs": [],
   "source": [
    "# Vendas norte-americanas\n",
    "convert_type, convert_type2, convert_type3, convert_type4, convert_type5 = df['vendasNorteAmericanas'], df['vendasEuropa'], df['vendasJapao'], df['outrasVendas'], df['vendasGlobais']"
   ]
  },
  {
   "cell_type": "code",
   "execution_count": 102,
   "metadata": {},
   "outputs": [
    {
     "data": {
      "text/plain": [
       "count     7112\n",
       "unique     349\n",
       "top          0\n",
       "freq       642\n",
       "Name: vendasNorteAmericanas, dtype: object"
      ]
     },
     "execution_count": 102,
     "metadata": {},
     "output_type": "execute_result"
    }
   ],
   "source": [
    "df['vendasNorteAmericanas'].describe()"
   ]
  },
  {
   "cell_type": "markdown",
   "metadata": {},
   "source": [
    "### Veja acima que os nossos dados, que eram pra ser numéricos estão como `strings`.\n",
    "### Se você abrir o arquivo .csv, verificará que estão todos como \"\"."
   ]
  },
  {
   "cell_type": "markdown",
   "metadata": {},
   "source": [
    "Vamos convertê-los para `float`."
   ]
  },
  {
   "cell_type": "code",
   "execution_count": 103,
   "metadata": {},
   "outputs": [
    {
     "name": "stdout",
     "output_type": "stream",
     "text": [
      "     plataforma    genero               empresa  vendasNorteAmericanas  \\\n",
      "0           Wii    Sports              Nintendo                  41.36   \n",
      "1           Wii    Racing              Nintendo                  15.68   \n",
      "2           Wii    Sports              Nintendo                  15.61   \n",
      "3            DS  Platform              Nintendo                  11.28   \n",
      "4           Wii      Misc              Nintendo                  13.96   \n",
      "...         ...       ...                   ...                    ...   \n",
      "7107         PC    Action               Ubisoft                   0.00   \n",
      "7108         PC   Shooter          Midway Games                   0.00   \n",
      "7109         PC    Sports                  Sega                   0.00   \n",
      "7110         PC  Strategy  Take-Two Interactive                   0.00   \n",
      "7111        PS4  Platform             Team Meat                   0.00   \n",
      "\n",
      "     vendasEuropa vendasJapao outrasVendas vendasGlobais classificacao  \\\n",
      "0           28,96        3,77         8,45         82,54             E   \n",
      "1            12,8        3,79         3,29         35,57             E   \n",
      "2           10,95        3,28         2,95         32,78             E   \n",
      "3            9,15         6,5         2,88         29,81             E   \n",
      "4            9,18        2,93         2,84         28,92             E   \n",
      "...           ...         ...          ...           ...           ...   \n",
      "7107            0           0            0          0,01             T   \n",
      "7108            0           0            0          0,01             T   \n",
      "7109            0           0            0          0,01             E   \n",
      "7110            0           0            0          0,01          E10+   \n",
      "7111            0           0            0          0,01             T   \n",
      "\n",
      "     classificacaoCritica  \n",
      "0                   Bueno  \n",
      "1               Excelente  \n",
      "2               Excelente  \n",
      "3               Excelente  \n",
      "4                    Malo  \n",
      "...                   ...  \n",
      "7107            Excelente  \n",
      "7108            Aceptable  \n",
      "7109            Aceptable  \n",
      "7110            Aceptable  \n",
      "7111            Excelente  \n",
      "\n",
      "[7112 rows x 10 columns]\n"
     ]
    }
   ],
   "source": [
    "# convertendo os dados para float\n",
    "# vendasNorteAmericanas\n",
    "\n",
    "df['vendasNorteAmericanas'] = df['vendasNorteAmericanas'].apply(lambda x: float(x.replace(\".\", \"\").replace(\",\",\".\")))\n",
    "print(df)"
   ]
  },
  {
   "cell_type": "code",
   "execution_count": 104,
   "metadata": {},
   "outputs": [
    {
     "data": {
      "text/plain": [
       "count    7112.000000\n",
       "mean        0.388567\n",
       "std         0.953982\n",
       "min         0.000000\n",
       "25%         0.060000\n",
       "50%         0.150000\n",
       "75%         0.390000\n",
       "max        41.360000\n",
       "Name: vendasNorteAmericanas, dtype: float64"
      ]
     },
     "execution_count": 104,
     "metadata": {},
     "output_type": "execute_result"
    }
   ],
   "source": [
    "df['vendasNorteAmericanas'].describe()"
   ]
  },
  {
   "cell_type": "code",
   "execution_count": 108,
   "metadata": {},
   "outputs": [
    {
     "data": {
      "text/plain": [
       "Text(0.5, 1.0, 'Vendas Norte-Americanas')"
      ]
     },
     "execution_count": 108,
     "metadata": {},
     "output_type": "execute_result"
    },
    {
     "data": {
      "image/png": "[encoded data removed]",
      "text/plain": [
       "<Figure size 432x288 with 1 Axes>"
      ]
     },
     "metadata": {},
     "output_type": "display_data"
    }
   ],
   "source": [
    "# gerando boxplot\n",
    "sns.boxplot(df['vendasNorteAmericanas']).set_title('Vendas Norte-Americanas')\n"
   ]
  },
  {
   "cell_type": "code",
   "execution_count": 110,
   "metadata": {},
   "outputs": [
    {
     "data": {
      "text/plain": [
       "Text(0.5, 1.0, 'Vendas Norte-Americanas')"
      ]
     },
     "execution_count": 110,
     "metadata": {},
     "output_type": "execute_result"
    },
    {
     "data": {
      "image/png": "[encoded data removed]",
      "text/plain": [
       "<Figure size 432x288 with 1 Axes>"
      ]
     },
     "metadata": {},
     "output_type": "display_data"
    }
   ],
   "source": [
    "# histograma\n",
    "sns.distplot(df['vendasNorteAmericanas']).set_title('Vendas Norte-Americanas')"
   ]
  },
  {
   "cell_type": "code",
   "execution_count": 105,
   "metadata": {},
   "outputs": [],
   "source": [
    "# convertendo para float\n",
    "# vendasEuropa\n",
    "df['vendasEuropa'] = df['vendasEuropa'].apply(lambda x: float(x.replace('.', '').replace(',', '.')))"
   ]
  },
  {
   "cell_type": "code",
   "execution_count": 107,
   "metadata": {},
   "outputs": [
    {
     "data": {
      "text/plain": [
       "count    7112.000000\n",
       "mean        0.232537\n",
       "std         0.680028\n",
       "min         0.000000\n",
       "25%         0.020000\n",
       "50%         0.060000\n",
       "75%         0.202500\n",
       "max        28.960000\n",
       "Name: vendasEuropa, dtype: float64"
      ]
     },
     "execution_count": 107,
     "metadata": {},
     "output_type": "execute_result"
    }
   ],
   "source": [
    "df['vendasEuropa'].describe()"
   ]
  },
  {
   "cell_type": "code",
   "execution_count": 109,
   "metadata": {},
   "outputs": [
    {
     "data": {
      "text/plain": [
       "Text(0.5, 1.0, 'Vendas na Europa')"
      ]
     },
     "execution_count": 109,
     "metadata": {},
     "output_type": "execute_result"
    },
    {
     "data": {
      "image/png": "[encoded data removed]",
      "text/plain": [
       "<Figure size 432x288 with 1 Axes>"
      ]
     },
     "metadata": {},
     "output_type": "display_data"
    }
   ],
   "source": [
    "# boxplot vendasEuropa\n",
    "sns.boxplot(df['vendasEuropa']).set_title('Vendas na Europa')"
   ]
  },
  {
   "cell_type": "code",
   "execution_count": 111,
   "metadata": {},
   "outputs": [
    {
     "data": {
      "text/plain": [
       "Text(0.5, 1.0, 'Vendas na Europa')"
      ]
     },
     "execution_count": 111,
     "metadata": {},
     "output_type": "execute_result"
    },
    {
     "data": {
      "image/png": "[encoded data removed]",
      "text/plain": [
       "<Figure size 432x288 with 1 Axes>"
      ]
     },
     "metadata": {},
     "output_type": "display_data"
    }
   ],
   "source": [
    "# histograma vendasEuropa\n",
    "sns.distplot(df['vendasEuropa']).set_title('Vendas na Europa')"
   ]
  },
  {
   "cell_type": "code",
   "execution_count": 113,
   "metadata": {},
   "outputs": [],
   "source": [
    "# convertendo para float\n",
    "# vendasJapao\n",
    "df['vendasJapao'] = df['vendasJapao'].apply(lambda x: float(x.replace(',', '').replace(',', '.')) )"
   ]
  },
  {
   "cell_type": "code",
   "execution_count": 114,
   "metadata": {},
   "outputs": [
    {
     "data": {
      "text/plain": [
       "count    7112.000000\n",
       "mean        5.695726\n",
       "std        25.923613\n",
       "min         0.000000\n",
       "25%         0.000000\n",
       "50%         0.000000\n",
       "75%         1.000000\n",
       "max       533.000000\n",
       "Name: vendasJapao, dtype: float64"
      ]
     },
     "execution_count": 114,
     "metadata": {},
     "output_type": "execute_result"
    }
   ],
   "source": [
    "df['vendasJapao'].describe()"
   ]
  },
  {
   "cell_type": "code",
   "execution_count": 115,
   "metadata": {},
   "outputs": [
    {
     "data": {
      "text/plain": [
       "Text(0.5, 1.0, 'Vendas no Japão')"
      ]
     },
     "execution_count": 115,
     "metadata": {},
     "output_type": "execute_result"
    },
    {
     "data": {
      "image/png": "[encoded data removed]",
      "text/plain": [
       "<Figure size 432x288 with 1 Axes>"
      ]
     },
     "metadata": {},
     "output_type": "display_data"
    }
   ],
   "source": [
    "# boxplot vendasJapao\n",
    "sns.boxplot(df['vendasJapao']).set_title('Vendas no Japão')"
   ]
  },
  {
   "cell_type": "code",
   "execution_count": 116,
   "metadata": {},
   "outputs": [
    {
     "data": {
      "text/plain": [
       "Text(0.5, 1.0, 'Vendas no Japão')"
      ]
     },
     "execution_count": 116,
     "metadata": {},
     "output_type": "execute_result"
    },
    {
     "data": {
      "image/png": "[encoded data removed]",
      "text/plain": [
       "<Figure size 432x288 with 1 Axes>"
      ]
     },
     "metadata": {},
     "output_type": "display_data"
    }
   ],
   "source": [
    "sns.distplot(df['vendasJapao']).set_title('Vendas no Japão')"
   ]
  },
  {
   "cell_type": "code",
   "execution_count": 117,
   "metadata": {},
   "outputs": [],
   "source": [
    "# convertendo para float\n",
    "# vendasGlobais\n",
    "df['vendasGlobais'] = df['vendasGlobais'].apply(lambda x: float(x.replace(',', '').replace(',', '.')))"
   ]
  },
  {
   "cell_type": "code",
   "execution_count": 118,
   "metadata": {},
   "outputs": [
    {
     "data": {
      "text/plain": [
       "count    7112.000000\n",
       "mean       69.749016\n",
       "std       187.674162\n",
       "min         1.000000\n",
       "25%         8.000000\n",
       "50%        24.000000\n",
       "75%        66.000000\n",
       "max      8254.000000\n",
       "Name: vendasGlobais, dtype: float64"
      ]
     },
     "execution_count": 118,
     "metadata": {},
     "output_type": "execute_result"
    }
   ],
   "source": [
    "df['vendasGlobais'].describe()"
   ]
  },
  {
   "cell_type": "code",
   "execution_count": 119,
   "metadata": {},
   "outputs": [
    {
     "data": {
      "text/plain": [
       "Text(0.5, 1.0, 'Vendas Globais')"
      ]
     },
     "execution_count": 119,
     "metadata": {},
     "output_type": "execute_result"
    },
    {
     "data": {
      "image/png": "[encoded data removed]",
      "text/plain": [
       "<Figure size 432x288 with 1 Axes>"
      ]
     },
     "metadata": {},
     "output_type": "display_data"
    }
   ],
   "source": [
    "# boxplot vendasGlobais\n",
    "sns.boxplot(df['vendasGlobais']).set_title('Vendas Globais')"
   ]
  },
  {
   "cell_type": "code",
   "execution_count": 120,
   "metadata": {},
   "outputs": [
    {
     "data": {
      "text/plain": [
       "Text(0.5, 1.0, 'Vendas Globais')"
      ]
     },
     "execution_count": 120,
     "metadata": {},
     "output_type": "execute_result"
    },
    {
     "data": {
      "image/png": "[encoded data removed]",
      "text/plain": [
       "<Figure size 432x288 with 1 Axes>"
      ]
     },
     "metadata": {},
     "output_type": "display_data"
    }
   ],
   "source": [
    "# histograma vendasGlovais\n",
    "sns.distplot(df['vendasGlobais']).set_title('Vendas Globais')"
   ]
  }
 ],
 "metadata": {
  "kernelspec": {
   "display_name": "Python 3.9.7 ('base')",
   "language": "python",
   "name": "python3"
  },
  "language_info": {
   "codemirror_mode": {
    "name": "ipython",
    "version": 3
   },
   "file_extension": ".py",
   "mimetype": "text/x-python",
   "name": "python",
   "nbconvert_exporter": "python",
   "pygments_lexer": "ipython3",
   "version": "3.9.7"
  },
  "vscode": {
   "interpreter": {
    "hash": "4219bd29f0a5c80a445958c4b1fbd284d06e190026f29a8a8842e612562dd358"
   }
  }
 },
 "nbformat": 4,
 "nbformat_minor": 4
}
